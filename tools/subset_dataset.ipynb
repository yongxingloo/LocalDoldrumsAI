{
 "cells": [
  {
   "cell_type": "code",
   "execution_count": 1,
   "metadata": {},
   "outputs": [],
   "source": [
    "import numpy as np\n",
    "import matplotlib.pyplot as plt"
   ]
  },
  {
   "cell_type": "markdown",
   "metadata": {},
   "source": [
    "# Function to subset the prepared data from the cluster "
   ]
  },
  {
   "cell_type": "markdown",
   "metadata": {},
   "source": [
    "Import the raw GOES images "
   ]
  },
  {
   "cell_type": "code",
   "execution_count": 2,
   "metadata": {},
   "outputs": [],
   "source": [
    "images_C01 = np.load('../Branch-updatefilesystem/Github-GOES-ML/output/final_output_metopc_des/metopc_des_goes_images_C01.npy')\n",
    "images_C03 = np.load('../Branch-updatefilesystem/Github-GOES-ML/output/final_output_metopc_des/metopc_des_goes_images_C03.npy')\n",
    "images_dual_channel = np.stack((images_C01, images_C03), axis=1)\n",
    "images_dual_channel = np.nan_to_num(images_dual_channel, nan=0.0)"
   ]
  },
  {
   "cell_type": "markdown",
   "metadata": {},
   "source": [
    "Import the numerical data (Lat,Lon,Time,Target)"
   ]
  },
  {
   "cell_type": "code",
   "execution_count": 3,
   "metadata": {},
   "outputs": [],
   "source": [
    "lat = np.load('../Branch-updatefilesystem/Github-GOES-ML/output/final_output_metopc_des/metopc_des_lat.npy')\n",
    "lon = np.load('../Branch-updatefilesystem/Github-GOES-ML/output/final_output_metopc_des/metopc_des_lon.npy')\n",
    "time = np.load('../Branch-updatefilesystem/Github-GOES-ML/output/final_output_metopc_des/metopc_des_time.npy')\n",
    "target = np.load('../Branch-updatefilesystem/Github-GOES-ML/output/final_output_metopc_des/metopc_des_label.npy')\n",
    "\n"
   ]
  },
  {
   "cell_type": "markdown",
   "metadata": {},
   "source": [
    "Visualize the distribution of target (Wind speed distribution in our dataset)"
   ]
  },
  {
   "cell_type": "code",
   "execution_count": 27,
   "metadata": {},
   "outputs": [
    {
     "data": {
      "text/plain": [
       "(array([5.5400e+02, 5.0100e+02, 5.1600e+02, 6.1600e+02, 6.3000e+02,\n",
       "        8.3700e+02, 8.5700e+02, 9.3500e+02, 1.1740e+03, 1.2760e+03,\n",
       "        1.5480e+03, 1.7110e+03, 1.8420e+03, 2.1080e+03, 2.3200e+03,\n",
       "        2.6340e+03, 3.0730e+03, 3.0540e+03, 3.6650e+03, 3.8420e+03,\n",
       "        4.4080e+03, 4.6780e+03, 5.5440e+03, 6.0320e+03, 6.2580e+03,\n",
       "        7.1570e+03, 7.2920e+03, 8.1260e+03, 8.9670e+03, 8.8990e+03,\n",
       "        1.0199e+04, 1.0140e+04, 1.1781e+04, 1.2448e+04, 1.2471e+04,\n",
       "        1.3861e+04, 1.3789e+04, 1.4847e+04, 1.5066e+04, 1.4469e+04,\n",
       "        1.6063e+04, 1.4779e+04, 1.5991e+04, 1.4841e+04, 1.5846e+04,\n",
       "        1.5325e+04, 1.4270e+04, 1.5006e+04, 1.4160e+04, 1.4714e+04,\n",
       "        1.4626e+04, 1.2856e+04, 1.2938e+04, 1.1296e+04, 1.1167e+04,\n",
       "        1.0528e+04, 9.4170e+03, 9.6260e+03, 9.0330e+03, 9.2000e+03,\n",
       "        8.2590e+03, 8.3650e+03, 7.3410e+03, 6.3480e+03, 6.2380e+03,\n",
       "        5.4150e+03, 5.4930e+03, 5.1720e+03, 4.4910e+03, 4.1300e+03,\n",
       "        3.3850e+03, 3.2130e+03, 2.8510e+03, 2.2720e+03, 1.8940e+03,\n",
       "        1.5030e+03, 1.3780e+03, 1.1490e+03, 7.8000e+02, 7.3900e+02,\n",
       "        5.6500e+02, 3.7100e+02, 2.4500e+02, 2.1900e+02, 1.5100e+02,\n",
       "        1.0500e+02, 9.8000e+01, 7.5000e+01, 6.0000e+01, 3.0000e+01,\n",
       "        2.9000e+01, 1.3000e+01, 1.3000e+01, 9.0000e+00, 3.0000e+00,\n",
       "        2.0000e+00, 1.0000e+00, 0.0000e+00, 0.0000e+00, 3.0000e+00]),\n",
       " array([ 0.19999999,  0.35589999,  0.51179999,  0.66769999,  0.82359999,\n",
       "         0.9795    ,  1.13539994,  1.29129994,  1.44719994,  1.60309994,\n",
       "         1.75899994,  1.91489995,  2.07080007,  2.22670007,  2.38260007,\n",
       "         2.53850007,  2.69440007,  2.85030007,  3.00620008,  3.16210008,\n",
       "         3.31800008,  3.47390008,  3.62980008,  3.78570008,  3.94160008,\n",
       "         4.09749985,  4.25339985,  4.40929985,  4.56519985,  4.72109985,\n",
       "         4.87699986,  5.03289986,  5.18879986,  5.34469986,  5.50059986,\n",
       "         5.65649986,  5.81239986,  5.96829987,  6.12419987,  6.28009987,\n",
       "         6.43599987,  6.59189987,  6.74779987,  6.90369987,  7.05959988,\n",
       "         7.21549988,  7.37139988,  7.52729988,  7.68319988,  7.83909988,\n",
       "         7.99499989,  8.15089989,  8.30679989,  8.46269989,  8.61859989,\n",
       "         8.77449989,  8.93039989,  9.0862999 ,  9.2421999 ,  9.3980999 ,\n",
       "         9.5539999 ,  9.7098999 ,  9.8657999 , 10.02169991, 10.17759991,\n",
       "        10.33349991, 10.48939991, 10.64529991, 10.80119991, 10.95709991,\n",
       "        11.11299992, 11.26889992, 11.42479992, 11.58069992, 11.73659992,\n",
       "        11.89249992, 12.04839993, 12.20429993, 12.36019993, 12.51609993,\n",
       "        12.67199993, 12.82789993, 12.98379993, 13.13969994, 13.29559994,\n",
       "        13.45149994, 13.60739994, 13.76329994, 13.91919994, 14.07509995,\n",
       "        14.23099995, 14.38689995, 14.54279995, 14.69869995, 14.85459995,\n",
       "        15.01049995, 15.16639996, 15.32229996, 15.47819996, 15.63409996,\n",
       "        15.78999996]),\n",
       " <BarContainer object of 100 artists>)"
      ]
     },
     "execution_count": 27,
     "metadata": {},
     "output_type": "execute_result"
    },
    {
     "data": {
      "image/png": "[encoded data removed]",
      "text/plain": [
       "<Figure size 640x480 with 1 Axes>"
      ]
     },
     "metadata": {},
     "output_type": "display_data"
    }
   ],
   "source": [
    "plt.hist(target, bins=100)"
   ]
  },
  {
   "cell_type": "markdown",
   "metadata": {},
   "source": [
    "Create bins of wind speeds (0-1,1-2,2-3 etc.)"
   ]
  },
  {
   "cell_type": "code",
   "execution_count": 32,
   "metadata": {},
   "outputs": [
    {
     "name": "stdout",
     "output_type": "stream",
     "text": [
      "(2905,) (7367,) (15709,) (30356,) (52298,) (79912,) (97420,) (95153,) (77242,) (56147,) (35525,) (17679,) (5468,) (907,) (121,)\n"
     ]
    }
   ],
   "source": [
    "#Create boxes for each range\n",
    "\n",
    "idx_0 = np.where((target >= 0) & (target < 1))[0]\n",
    "idx_1 = np.where((target >= 1) & (target < 2))[0]\n",
    "idx_2 = np.where((target >= 2) & (target < 3))[0]\n",
    "idx_3 = np.where((target >= 3) & (target < 4))[0]\n",
    "idx_4 = np.where((target >= 4) & (target < 5))[0]\n",
    "idx_5 = np.where((target >= 5) & (target < 6))[0]\n",
    "idx_6 = np.where((target >= 6) & (target < 7))[0]\n",
    "idx_7 = np.where((target >= 7) & (target < 8))[0]\n",
    "idx_8 = np.where((target >= 8) & (target < 9))[0]\n",
    "idx_9 = np.where((target >= 9) & (target < 10))[0]\n",
    "idx_10 = np.where((target >= 10) & (target < 11))[0]\n",
    "idx_11 = np.where((target >= 11) & (target < 12))[0]\n",
    "idx_12 = np.where((target >= 12) & (target < 13))[0]\n",
    "idx_13 = np.where((target >= 13) & (target < 14))[0]\n",
    "idx_14 = np.where((target >= 14) & (target < 15))[0]\n",
    "\n",
    "print(np.shape(idx_0), np.shape(idx_1), np.shape(idx_2), np.shape(idx_3), np.shape(idx_4), np.shape(idx_5), np.shape(idx_6), np.shape(idx_7), np.shape(idx_8), np.shape(idx_9), np.shape(idx_10), np.shape(idx_11), np.shape(idx_12), np.shape(idx_13), np.shape(idx_14))"
   ]
  },
  {
   "cell_type": "markdown",
   "metadata": {},
   "source": [
    "Create a picked dataset that minimizes bias"
   ]
  },
  {
   "cell_type": "code",
   "execution_count": null,
   "metadata": {},
   "outputs": [
    {
     "name": "stdout",
     "output_type": "stream",
     "text": [
      "(1500,)\n"
     ]
    }
   ],
   "source": [
    "samples_idx = []\n",
    "number_of_samples_per_range = 100\n",
    "\n",
    "samples_idx.extend(np.random.choice(idx_0, number_of_samples_per_range, replace=False))\n",
    "samples_idx.extend(np.random.choice(idx_1, number_of_samples_per_range, replace=False))\n",
    "samples_idx.extend(np.random.choice(idx_2, number_of_samples_per_range, replace=False))\n",
    "samples_idx.extend(np.random.choice(idx_3, number_of_samples_per_range, replace=False))\n",
    "samples_idx.extend(np.random.choice(idx_4, number_of_samples_per_range, replace=False))\n",
    "samples_idx.extend(np.random.choice(idx_5, number_of_samples_per_range, replace=False))\n",
    "samples_idx.extend(np.random.choice(idx_6, number_of_samples_per_range, replace=False))\n",
    "samples_idx.extend(np.random.choice(idx_7, number_of_samples_per_range, replace=False))\n",
    "samples_idx.extend(np.random.choice(idx_8, number_of_samples_per_range, replace=False))\n",
    "samples_idx.extend(np.random.choice(idx_9, number_of_samples_per_range, replace=False))\n",
    "samples_idx.extend(np.random.choice(idx_10, number_of_samples_per_range, replace=False))\n",
    "samples_idx.extend(np.random.choice(idx_11, number_of_samples_per_range, replace=False))\n",
    "samples_idx.extend(np.random.choice(idx_12, number_of_samples_per_range, replace=False))\n",
    "samples_idx.extend(np.random.choice(idx_13, number_of_samples_per_range, replace=False))\n",
    "samples_idx.extend(np.random.choice(idx_14, number_of_samples_per_range, replace=False))\n",
    "\n",
    "print(np.shape(samples_idx))\n",
    "\n",
    "images_dual_channel_picked = images_dual_channel[samples_idx]\n",
    "lat_picked = lat[samples_idx]\n",
    "lon_picked = lon[samples_idx]\n",
    "time_picked = time[samples_idx]\n",
    "target_picked = target[samples_idx]\n"
   ]
  },
  {
   "cell_type": "markdown",
   "metadata": {},
   "source": [
    "Visualize the picked dataset"
   ]
  },
  {
   "cell_type": "code",
   "execution_count": 40,
   "metadata": {},
   "outputs": [
    {
     "data": {
      "text/plain": [
       "(array([16., 17., 16., 22., 23., 11., 17., 14.,  8., 13., 16., 25., 11.,\n",
       "        14., 10., 13., 14., 19., 21.,  9.,  8., 17., 18., 12., 17., 22.,\n",
       "        10., 12., 11., 20., 14., 19., 18.,  9., 15., 17., 17., 11., 18.,\n",
       "        14., 10., 11., 18., 11., 19., 20., 15., 14., 15., 23., 10., 11.,\n",
       "        16., 18., 17., 13., 11., 11., 16., 17., 16., 10., 22., 16., 16.,\n",
       "        11., 10., 19., 19., 17., 13.,  8., 13., 20., 20., 21., 17., 16.,\n",
       "         3.,  7., 27., 16., 16., 12., 17., 12.,  2., 22., 30., 16., 10.,\n",
       "         6.,  7., 17., 31., 25., 14.,  9.,  7.,  6.]),\n",
       " array([ 0.22      ,  0.36679998,  0.51359999,  0.66039997,  0.80719995,\n",
       "         0.954     ,  1.10079992,  1.24759996,  1.3944    ,  1.54119992,\n",
       "         1.68799996,  1.8348    ,  1.98159993,  2.12839985,  2.27519989,\n",
       "         2.42199993,  2.56879997,  2.71560001,  2.86239982,  3.00919986,\n",
       "         3.1559999 ,  3.30279994,  3.44959998,  3.59640002,  3.74319983,\n",
       "         3.88999987,  4.03679991,  4.18359995,  4.33039999,  4.47720003,\n",
       "         4.62400007,  4.77080011,  4.91759968,  5.06439972,  5.21119976,\n",
       "         5.3579998 ,  5.50479984,  5.65159988,  5.79839993,  5.94519997,\n",
       "         6.09200001,  6.23880005,  6.38559961,  6.53239965,  6.6791997 ,\n",
       "         6.82599974,  6.97279978,  7.11959982,  7.26639986,  7.4131999 ,\n",
       "         7.55999994,  7.70679998,  7.85360003,  8.00039959,  8.14719963,\n",
       "         8.29399967,  8.44079971,  8.58759975,  8.7343998 ,  8.88119984,\n",
       "         9.02799988,  9.17479992,  9.32159996,  9.4684    ,  9.61520004,\n",
       "         9.76200008,  9.90880013, 10.05560017, 10.20240021, 10.3491993 ,\n",
       "        10.49599934, 10.64279938, 10.78959942, 10.93639946, 11.0831995 ,\n",
       "        11.22999954, 11.37679958, 11.52359962, 11.67039967, 11.81719971,\n",
       "        11.96399975, 12.11079979, 12.25759983, 12.40439987, 12.55119991,\n",
       "        12.69799995, 12.8448    , 12.99160004, 13.13840008, 13.28520012,\n",
       "        13.43199921, 13.57879925, 13.72559929, 13.87239933, 14.01919937,\n",
       "        14.16599941, 14.31279945, 14.45959949, 14.60639954, 14.75319958,\n",
       "        14.89999962]),\n",
       " <BarContainer object of 100 artists>)"
      ]
     },
     "execution_count": 40,
     "metadata": {},
     "output_type": "execute_result"
    },
    {
     "data": {
      "image/png": "[encoded data removed]",
      "text/plain": [
       "<Figure size 640x480 with 1 Axes>"
      ]
     },
     "metadata": {},
     "output_type": "display_data"
    }
   ],
   "source": [
    "plt.hist(target_picked, bins=100)"
   ]
  },
  {
   "cell_type": "markdown",
   "metadata": {},
   "source": [
    "Save this dataset"
   ]
  },
  {
   "cell_type": "code",
   "execution_count": null,
   "metadata": {},
   "outputs": [],
   "source": [
    "np.save('../dataset_picked/images_dual_channel_picked.npy', images_dual_channel_picked)\n",
    "np.save('../dataset_picked/lat_picked.npy', lat_picked)\n",
    "np.save('../dataset_picked/lon_picked.npy', lon_picked)\n",
    "np.save('../dataset_picked/time_picked.npy', time_picked)\n",
    "np.save('../dataset_picked/target_picked.npy', target_picked)\n"
   ]
  },
  {
   "cell_type": "markdown",
   "metadata": {},
   "source": [
    "Ensure consistency in shapes"
   ]
  },
  {
   "cell_type": "code",
   "execution_count": 60,
   "metadata": {},
   "outputs": [
    {
     "name": "stdout",
     "output_type": "stream",
     "text": [
      "(1500, 2, 27, 27)\n",
      "(1500,)\n",
      "(1500,)\n",
      "(1500,)\n",
      "(1500,)\n"
     ]
    }
   ],
   "source": [
    "print(np.shape(images_dual_channel_picked))\n",
    "print(np.shape(lat_picked))\n",
    "print(np.shape(lon_picked))\n",
    "print(np.shape(time_picked))\n",
    "print(np.shape(target_picked))"
   ]
  }
 ],
 "metadata": {
  "kernelspec": {
   "display_name": "base",
   "language": "python",
   "name": "python3"
  },
  "language_info": {
   "codemirror_mode": {
    "name": "ipython",
    "version": 3
   },
   "file_extension": ".py",
   "mimetype": "text/x-python",
   "name": "python",
   "nbconvert_exporter": "python",
   "pygments_lexer": "ipython3",
   "version": "3.11.7"
  }
 },
 "nbformat": 4,
 "nbformat_minor": 2
}
