{
 "cells": [
  {
   "cell_type": "code",
   "execution_count": 95,
   "metadata": {},
   "outputs": [],
   "source": [
    "import numpy as np\n",
    "import matplotlib.pyplot as plt\n",
    "from sklearn.metrics import confusion_matrix\n",
    "import seaborn as sns\n",
    "import torch\n",
    "import torch.nn.functional as F"
   ]
  },
  {
   "cell_type": "code",
   "execution_count": null,
   "metadata": {},
   "outputs": [
    {
     "name": "stdout",
     "output_type": "stream",
     "text": [
      "(3000,)\n",
      "(3000,)\n"
     ]
    }
   ],
   "source": [
    "classification_output = np.load('./test_output.npy')\n",
    "classification_label = np.load('../../local_data/classification/classifier_test/test_target_classification.npy')\n",
    "\n",
    "print(np.shape(classification_label))\n",
    "print(np.shape(classification_output))"
   ]
  },
  {
   "cell_type": "code",
   "execution_count": 97,
   "metadata": {},
   "outputs": [
    {
     "name": "stdout",
     "output_type": "stream",
     "text": [
      "tensor([1.5068e-01, 8.4288e-01, 7.0471e-03,  ..., 2.3585e-04, 6.3900e-05,\n",
      "        7.4352e-03])\n",
      "[0. 1. 0. ... 0. 0. 0.]\n"
     ]
    }
   ],
   "source": [
    "classification_output_tensor = torch.tensor(classification_output)\n",
    "probabilities = torch.sigmoid(classification_output_tensor)\n",
    "\n",
    "predictions = torch.round(probabilities)\n",
    "\n",
    "print(probabilities)\n",
    "predictions = predictions.detach().numpy()\n",
    "print(predictions)"
   ]
  },
  {
   "cell_type": "code",
   "execution_count": 98,
   "metadata": {},
   "outputs": [
    {
     "name": "stdout",
     "output_type": "stream",
     "text": [
      "(3000,)\n"
     ]
    }
   ],
   "source": [
    "classification_label\n",
    "print(np.shape(classification_label))"
   ]
  },
  {
   "cell_type": "code",
   "execution_count": 99,
   "metadata": {},
   "outputs": [],
   "source": [
    "def accuracy_classification(classification_output_convert, classification_label):\n",
    "    score = 0\n",
    "    for i in range(len(classification_label)):\n",
    "        if classification_output_convert[i] == classification_label[i]:\n",
    "            score += 1\n",
    "    \n",
    "    return score/len(classification_label)"
   ]
  },
  {
   "cell_type": "code",
   "execution_count": 106,
   "metadata": {},
   "outputs": [
    {
     "data": {
      "text/plain": [
       "0.7893333333333333"
      ]
     },
     "execution_count": 106,
     "metadata": {},
     "output_type": "execute_result"
    }
   ],
   "source": [
    "accuracy_classification(predictions,classification_label)"
   ]
  },
  {
   "cell_type": "code",
   "execution_count": 107,
   "metadata": {},
   "outputs": [
    {
     "name": "stdout",
     "output_type": "stream",
     "text": [
      "[[1159  334]\n",
      " [ 298 1209]]\n"
     ]
    },
    {
     "data": {
      "image/png": "[encoded data removed]",
      "text/plain": [
       "<Figure size 640x480 with 2 Axes>"
      ]
     },
     "metadata": {},
     "output_type": "display_data"
    }
   ],
   "source": [
    "# Assuming y_true and y_pred are the true labels and predicted labels\n",
    "%matplotlib inline\n",
    "y_true = classification_label\n",
    "y_pred = predictions\n",
    "# Confusion matrix with explicit labels\n",
    "\n",
    "# Assuming y_true and y_pred are defined\n",
    "cm = confusion_matrix(y_true, y_pred)\n",
    "print(cm)\n",
    "# Define class names\n",
    "class_names = ['Class 0', 'Class 1']\n",
    "\n",
    "# Plot confusion matrix with labels\n",
    "sns.heatmap(cm, annot=True, fmt='d', cmap='Blues',\n",
    "            xticklabels=class_names, yticklabels=class_names)\n",
    "plt.xlabel('Predicted Label')\n",
    "plt.ylabel('True Label')\n",
    "plt.title('Confusion Matrix')\n",
    "plt.show()"
   ]
  },
  {
   "cell_type": "code",
   "execution_count": null,
   "metadata": {},
   "outputs": [
    {
     "name": "stdout",
     "output_type": "stream",
     "text": [
      "accuracy between 0 and 1 m/s: 0.9193548387096774\n",
      "accuracy between 1 and 2 m/s: 0.8401826484018264\n",
      "accuracy between 2 and 3 m/s: 0.7587768969422424\n",
      "accuracy between 3 and 4 m/s: 0.3717948717948718\n",
      "accuracy between 4 and 5 m/s: 0.6639344262295082\n",
      "accuracy between 5 and 6 m/s: 0.6380090497737556\n",
      "accuracy between 6 and 7 m/s: 0.8320610687022901\n",
      "accuracy between 7 and 8 m/s: 0.8269896193771626\n",
      "accuracy between 8 and 9 m/s: 0.835\n",
      "accuracy between 9 and 10 m/s: 0.8888888888888888\n",
      "accuracy between 10 m/s and above: 0.8813559322033898\n"
     ]
    }
   ],
   "source": [
    "# accuracy per bin\n",
    "\n",
    "wind_speeds = np.load('../../local_data/classification/classifier_test/test_target_value.npy')\n",
    "bin_01 = np.where(wind_speeds < 1)\n",
    "bin_12 = np.where((wind_speeds >= 1) & (wind_speeds < 2))\n",
    "bin_23 = np.where((wind_speeds >= 2) & (wind_speeds < 3))\n",
    "bin_34 = np.where((wind_speeds >= 3) & (wind_speeds < 4))\n",
    "bin_45 = np.where((wind_speeds >= 4) & (wind_speeds < 5))\n",
    "bin_56 = np.where((wind_speeds >= 5) & (wind_speeds < 6))\n",
    "bin_67 = np.where((wind_speeds >= 6) & (wind_speeds < 7))\n",
    "bin_78 = np.where((wind_speeds >= 7) & (wind_speeds < 8))\n",
    "bin_89 = np.where((wind_speeds >= 8) & (wind_speeds < 9))\n",
    "bin_910 = np.where((wind_speeds >= 9) & (wind_speeds < 10))\n",
    "bin_10 = np.where(wind_speeds >= 10)\n",
    "\n",
    "accuracy01 = accuracy_classification(predictions[bin_01],classification_label[bin_01])\n",
    "accuracy12 = accuracy_classification(predictions[bin_12],classification_label[bin_12])\n",
    "accuracy23 = accuracy_classification(predictions[bin_23],classification_label[bin_23])\n",
    "accuracy34 = accuracy_classification(predictions[bin_34],classification_label[bin_34])\n",
    "accuracy45 = accuracy_classification(predictions[bin_45],classification_label[bin_45])\n",
    "accuracy56 = accuracy_classification(predictions[bin_56],classification_label[bin_56])\n",
    "accuracy67 = accuracy_classification(predictions[bin_67],classification_label[bin_67])\n",
    "accuracy78 = accuracy_classification(predictions[bin_78],classification_label[bin_78])\n",
    "accuracy89 = accuracy_classification(predictions[bin_89],classification_label[bin_89])\n",
    "accuracy910 = accuracy_classification(predictions[bin_910],classification_label[bin_910])\n",
    "accuracy10 = accuracy_classification(predictions[bin_10],classification_label[bin_10])\n",
    "\n",
    "print('accuracy between 0 and 1 m/s:', accuracy01)\n",
    "print('accuracy between 1 and 2 m/s:', accuracy12)\n",
    "print('accuracy between 2 and 3 m/s:', accuracy23)\n",
    "print('accuracy between 3 and 4 m/s:', accuracy34)\n",
    "print('accuracy between 4 and 5 m/s:', accuracy45)\n",
    "print('accuracy between 5 and 6 m/s:', accuracy56)\n",
    "print('accuracy between 6 and 7 m/s:', accuracy67)\n",
    "print('accuracy between 7 and 8 m/s:', accuracy78)\n",
    "print('accuracy between 8 and 9 m/s:', accuracy89)\n",
    "print('accuracy between 9 and 10 m/s:', accuracy910)\n",
    "print('accuracy between 10 m/s and above:', accuracy10)\n"
   ]
  },
  {
   "cell_type": "code",
   "execution_count": null,
   "metadata": {},
   "outputs": [],
   "source": []
  }
 ],
 "metadata": {
  "kernelspec": {
   "display_name": "base",
   "language": "python",
   "name": "python3"
  },
  "language_info": {
   "codemirror_mode": {
    "name": "ipython",
    "version": 3
   },
   "file_extension": ".py",
   "mimetype": "text/x-python",
   "name": "python",
   "nbconvert_exporter": "python",
   "pygments_lexer": "ipython3",
   "version": "3.11.7"
  }
 },
 "nbformat": 4,
 "nbformat_minor": 2
}
