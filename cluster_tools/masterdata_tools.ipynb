{
 "cells": [
  {
   "cell_type": "code",
   "execution_count": null,
   "metadata": {},
   "outputs": [],
   "source": [
    "import numpy as np\n",
    "from sklearn.model_selection import train_test_split"
   ]
  },
  {
   "cell_type": "code",
   "execution_count": null,
   "metadata": {},
   "outputs": [],
   "source": [
    "# metopa_des_janmarch\n",
    "image_C01_metopa_janmarch = np.load('./output/final_output_metopa_des_janmarch/metopa_des_janmarch_goes_images_C01.npy')\n",
    "image_C03_metopa_janmarch = np.load('./output/final_output_metopa_des_janmarch/metopa_des_janmarch_goes_images_C03.npy')\n",
    "label_metopa_janmarch = np.load('./output/final_output_metopa_des_janmarch/metopa_des_janmarch_label.npy')\n",
    "lat_metopa_janmarch = np.load('./output/final_output_metopa_des_janmarch/metopa_des_janmarch_lat.npy')\n",
    "lon_metopa_janmarch = np.load('./output/final_output_metopa_des_janmarch/metopa_des_janmarch_lon.npy') \n",
    "time_metopa_janmarch = np.load('./output/final_output_metopa_des_janmarch/metopa_des_janmarch_time.npy')"
   ]
  },
  {
   "cell_type": "code",
   "execution_count": null,
   "metadata": {},
   "outputs": [],
   "source": [
    "# metopb_des_janmarch\n",
    "\n",
    "image_C01_metopb_janmarch = np.load('./output/final_output_metopb_des_janmarch/metopb_des_janmarch_goes_images_C01.npy')\n",
    "image_C03_metopb_janmarch = np.load('./output/final_output_metopb_des_janmarch/metopb_des_janmarch_goes_images_C03.npy')\n",
    "label_metopb_janmarch = np.load('./output/final_output_metopb_des_janmarch/metopb_des_janmarch_label.npy')\n",
    "lat_metopb_janmarch = np.load('./output/final_output_metopb_des_janmarch/metopb_des_janmarch_lat.npy')\n",
    "lon_metopb_janmarch = np.load('./output/final_output_metopb_des_janmarch/metopb_des_janmarch_lon.npy')\n",
    "time_metopb_janmarch = np.load('./output/final_output_metopb_des_janmarch/metopb_des_janmarch_time.npy')\n"
   ]
  },
  {
   "cell_type": "code",
   "execution_count": null,
   "metadata": {},
   "outputs": [],
   "source": [
    "# metopb_des_mayaug\n",
    "\n",
    "image_C01_metopb_mayaug = np.load('./output/final_output_metopb_des_mayaug/metopb_des_mayaug_goes_images_C01.npy')\n",
    "image_C03_metopb_mayaug = np.load('./output/final_output_metopb_des_mayaug/metopb_des_mayaug_goes_images_C03.npy')\n",
    "label_metopb_mayaug = np.load('./output/final_output_metopb_des_mayaug/metopb_des_mayaug_label.npy')\n",
    "lat_metopb_mayaug = np.load('./output/final_output_metopb_des_mayaug/metopb_des_mayaug_lat.npy')\n",
    "lon_metopb_mayaug = np.load('./output/final_output_metopb_des_mayaug/metopb_des_mayaug_lon.npy')\n",
    "time_metopb_mayaug = np.load('./output/final_output_metopb_des_mayaug/metopb_des_mayaug_time.npy')"
   ]
  },
  {
   "cell_type": "code",
   "execution_count": null,
   "metadata": {},
   "outputs": [],
   "source": [
    "# metopc_des_janmarch\n",
    "\n",
    "image_C01_metopc_janmarch = np.load('./output/final_output_metopc_des_janmarch/metopc_des_janmarch_goes_images_C01.npy')\n",
    "image_C03_metopc_janmarch = np.load('./output/final_output_metopc_des_janmarch/metopc_des_janmarch_goes_images_C03.npy')\n",
    "label_metopc_janmarch = np.load('./output/final_output_metopc_des_janmarch/metopc_des_janmarch_label.npy')\n",
    "lat_metopc_janmarch = np.load('./output/final_output_metopc_des_janmarch/metopc_des_janmarch_lat.npy')\n",
    "lon_metopc_janmarch = np.load('./output/final_output_metopc_des_janmarch/metopc_des_janmarch_lon.npy')\n",
    "time_metopc_janmarch = np.load('./output/final_output_metopc_des_janmarch/metopc_des_janmarch_time.npy')\n"
   ]
  },
  {
   "cell_type": "code",
   "execution_count": null,
   "metadata": {},
   "outputs": [],
   "source": [
    "# metopc_des_mayaug\n",
    "\n",
    "image_C01_metopc_mayaug = np.load('./output/final_output_metopc_des_mayaug/metopc_des_mayaug_goes_images_C01.npy')\n",
    "image_C03_metopc_mayaug = np.load('./output/final_output_metopc_des_mayaug/metopc_des_mayaug_goes_images_C03.npy')\n",
    "label_metopc_mayaug = np.load('./output/final_output_metopc_des_mayaug/metopc_des_mayaug_label.npy')\n",
    "lat_metopc_mayaug = np.load('./output/final_output_metopc_des_mayaug/metopc_des_mayaug_lat.npy')\n",
    "lon_metopc_mayaug = np.load('./output/final_output_metopc_des_mayaug/metopc_des_mayaug_lon.npy')\n",
    "time_metopc_mayaug = np.load('./output/final_output_metopc_des_mayaug/metopc_des_mayaug_time.npy')"
   ]
  },
  {
   "cell_type": "code",
   "execution_count": null,
   "metadata": {},
   "outputs": [],
   "source": [
    "# metopc_des_novdec\n",
    "\n",
    "image_C01_metopc_novdec = np.load('./output/final_output_metopc_des_novdec/metopc_des_novdec_goes_images_C01.npy')\n",
    "image_C03_metopc_novdec = np.load('./output/final_output_metopc_des_novdec/metopc_des_novdec_goes_images_C03.npy')\n",
    "label_metopc_novdec = np.load('./output/final_output_metopc_des_novdec/metopc_des_novdec_label.npy')\n",
    "lat_metopc_novdec = np.load('./output/final_output_metopc_des_novdec/metopc_des_novdec_lat.npy')\n",
    "lon_metopc_novdec = np.load('./output/final_output_metopc_des_novdec/metopc_des_novdec_lon.npy')\n",
    "time_metopc_novdec = np.load('./output/final_output_metopc_des_novdec/metopc_des_novdec_time.npy')"
   ]
  },
  {
   "cell_type": "code",
   "execution_count": null,
   "metadata": {},
   "outputs": [],
   "source": [
    "# concatenate all the data\n",
    "\n",
    "image_C01 = np.concatenate((image_C01_metopa_janmarch, image_C01_metopb_janmarch, image_C01_metopb_mayaug, image_C01_metopc_janmarch, image_C01_metopc_mayaug, image_C01_metopc_novdec), axis=0)\n",
    "image_C03 = np.concatenate((image_C03_metopa_janmarch, image_C03_metopb_janmarch, image_C03_metopb_mayaug, image_C03_metopc_janmarch, image_C03_metopc_mayaug, image_C03_metopc_novdec), axis=0)\n",
    "target = np.concatenate((label_metopa_janmarch, label_metopb_janmarch, label_metopb_mayaug, label_metopc_janmarch, label_metopc_mayaug, label_metopc_novdec), axis=0)\n",
    "lat = np.concatenate((lat_metopa_janmarch, lat_metopb_janmarch, lat_metopb_mayaug, lat_metopc_janmarch, lat_metopc_mayaug, lat_metopc_novdec), axis=0)\n",
    "lon = np.concatenate((lon_metopa_janmarch, lon_metopb_janmarch, lon_metopb_mayaug, lon_metopc_janmarch, lon_metopc_mayaug, lon_metopc_novdec), axis=0)\n",
    "time = np.concatenate((time_metopa_janmarch, time_metopb_janmarch, time_metopb_mayaug, time_metopc_janmarch, time_metopc_mayaug, time_metopc_novdec), axis=0)\n",
    "\n",
    "images_dual_channel = np.stack((image_C01, image_C03), axis=1)\n",
    "images_dual_channel = np.nan_to_num(images_dual_channel, nan=0.0)"
   ]
  },
  {
   "cell_type": "code",
   "execution_count": null,
   "metadata": {},
   "outputs": [],
   "source": [
    "#Create boxes for each range\n",
    "\n",
    "idx_0 = np.where((target >= 0) & (target < 1))[0]\n",
    "idx_1 = np.where((target >= 1) & (target < 2))[0]\n",
    "idx_2 = np.where((target >= 2) & (target < 3))[0]\n",
    "idx_3 = np.where((target >= 3) & (target < 4))[0]\n",
    "idx_4 = np.where((target >= 4) & (target < 5))[0]\n",
    "idx_5 = np.where((target >= 5) & (target < 6))[0]\n",
    "idx_6 = np.where((target >= 6) & (target < 7))[0]\n",
    "idx_7 = np.where((target >= 7) & (target < 8))[0]\n",
    "idx_8 = np.where((target >= 8) & (target < 9))[0]\n",
    "idx_9 = np.where((target >= 9) & (target < 10))[0]\n",
    "idx_10 = np.where((target >= 10) & (target < 11))[0]\n",
    "idx_11 = np.where((target >= 11) & (target < 12))[0]\n",
    "idx_12 = np.where((target >= 12) & (target < 13))[0]\n",
    "idx_13 = np.where((target >= 13) & (target < 14))[0]\n",
    "idx_14 = np.where((target >= 14) & (target < 15))[0]\n",
    "\n",
    "\n",
    "print(np.shape(idx_0), np.shape(idx_1), np.shape(idx_2), np.shape(idx_3), np.shape(idx_4), np.shape(idx_5), np.shape(idx_6), np.shape(idx_7), np.shape(idx_8), np.shape(idx_9), np.shape(idx_10), np.shape(idx_11), np.shape(idx_12), np.shape(idx_13), np.shape(idx_14))"
   ]
  },
  {
   "cell_type": "code",
   "execution_count": null,
   "metadata": {},
   "outputs": [],
   "source": [
    "samples_idx = []\n",
    "number_of_samples_per_range = len(idx_14)\n",
    "\n",
    "samples_idx.extend(np.random.choice(idx_0, number_of_samples_per_range, replace=False))\n",
    "samples_idx.extend(np.random.choice(idx_1, number_of_samples_per_range, replace=False))\n",
    "samples_idx.extend(np.random.choice(idx_2, number_of_samples_per_range, replace=False))\n",
    "samples_idx.extend(np.random.choice(idx_3, number_of_samples_per_range, replace=False))\n",
    "samples_idx.extend(np.random.choice(idx_4, number_of_samples_per_range, replace=False))\n",
    "samples_idx.extend(np.random.choice(idx_5, number_of_samples_per_range, replace=False))\n",
    "samples_idx.extend(np.random.choice(idx_6, number_of_samples_per_range, replace=False))\n",
    "samples_idx.extend(np.random.choice(idx_7, number_of_samples_per_range, replace=False))\n",
    "samples_idx.extend(np.random.choice(idx_8, number_of_samples_per_range, replace=False))\n",
    "samples_idx.extend(np.random.choice(idx_9, number_of_samples_per_range, replace=False))\n",
    "samples_idx.extend(np.random.choice(idx_10, number_of_samples_per_range, replace=False))\n",
    "samples_idx.extend(np.random.choice(idx_11, number_of_samples_per_range, replace=False))\n",
    "samples_idx.extend(np.random.choice(idx_12, number_of_samples_per_range, replace=False))\n",
    "\n",
    "\n",
    "print(np.shape(samples_idx))\n",
    "\n",
    "images_dual_channel_picked = images_dual_channel[samples_idx]\n",
    "lat_picked = lat[samples_idx]\n",
    "lon_picked = lon[samples_idx]\n",
    "time_picked = time[samples_idx]\n",
    "target_picked = target[samples_idx]\n"
   ]
  },
  {
   "cell_type": "code",
   "execution_count": null,
   "metadata": {},
   "outputs": [],
   "source": [
    "#Split the data 80 / 20\n",
    "\n",
    "images_train, images_test, lat_train, lat_test, lon_train, lon_test, time_train, time_test, target_train, target_test = train_test_split(\n",
    "    images_dual_channel_picked, lat_picked, lon_picked, time_picked, target_picked, test_size=0.2, random_state=42)\n",
    "\n",
    "\n",
    "np.save('./masterdata_train/masterdata_train_images.npy', images_train)\n",
    "np.save('./masterdata_train/masterdata_scalability.npy', lat_train)\n",
    "np.save('./masterdata_train/masterdata_scalability.npy', lon_train)\n",
    "np.save('./masterdata_train/masterdata_scalability.npy', time_train)\n",
    "np.save('./masterdata_train/masterdata_scalability.npy', target_train)\n",
    "\n",
    "np.save('./masterdata_test/masterdata_test_images.npy', images_test)\n",
    "np.save('./masterdata_test/masterdata_test_lat.npy', lat_test)\n",
    "np.save('./masterdata_test/masterdata_test_lon.npy', lon_test)\n",
    "np.save('./masterdata_test/masterdata_test_time.npy', time_test)\n",
    "np.save('./masterdata_test/masterdata_test_target.npy', target_test)\n",
    "\n",
    "print(np.shape(images_train), np.shape(lat_train), np.shape(lon_train), np.shape(time_train), np.shape(target_train))\n",
    "print(np.shape(images_test), np.shape(lat_test), np.shape(lon_test), np.shape(time_test), np.shape(target_test))"
   ]
  }
 ],
 "metadata": {
  "kernelspec": {
   "display_name": "base",
   "language": "python",
   "name": "python3"
  },
  "language_info": {
   "codemirror_mode": {
    "name": "ipython",
    "version": 3
   },
   "file_extension": ".py",
   "mimetype": "text/x-python",
   "name": "python",
   "nbconvert_exporter": "python",
   "pygments_lexer": "ipython3",
   "version": "3.11.7"
  }
 },
 "nbformat": 4,
 "nbformat_minor": 2
}
